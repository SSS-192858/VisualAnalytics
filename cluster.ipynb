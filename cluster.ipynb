{
 "cells": [
  {
   "cell_type": "code",
   "execution_count": 9,
   "metadata": {},
   "outputs": [],
   "source": [
    "import numpy as np\n",
    "import pandas as pd\n",
    "from sklearn.cluster import KMeans\n",
    "import folium\n",
    "from PIL import Image\n",
    "from io import BytesIO\n",
    "import geopandas as gpd\n",
    "from collections import Counter\n",
    "from calendar import month_abbr\n"
   ]
  },
  {
   "cell_type": "code",
   "execution_count": 10,
   "metadata": {},
   "outputs": [
    {
     "name": "stderr",
     "output_type": "stream",
     "text": [
      "/tmp/ipykernel_7302/4255088014.py:4: DtypeWarning: Columns (4) have mixed types. Specify dtype option on import or set low_memory=False.\n",
      "  df = pd.read_csv(f'./datasets/crashes_2012-23/crashes_{i}.csv')\n",
      "/tmp/ipykernel_7302/4255088014.py:4: DtypeWarning: Columns (4) have mixed types. Specify dtype option on import or set low_memory=False.\n",
      "  df = pd.read_csv(f'./datasets/crashes_2012-23/crashes_{i}.csv')\n",
      "/tmp/ipykernel_7302/4255088014.py:4: DtypeWarning: Columns (4) have mixed types. Specify dtype option on import or set low_memory=False.\n",
      "  df = pd.read_csv(f'./datasets/crashes_2012-23/crashes_{i}.csv')\n"
     ]
    }
   ],
   "source": [
    "datasets = []\n",
    "\n",
    "for i in range(2013,2020):\n",
    "    df = pd.read_csv(f'./datasets/crashes_2012-23/crashes_{i}.csv')\n",
    "    df = df.dropna(subset=['LONGITUDE', 'LATITUDE'])\n",
    "    df = df[df['LATITUDE'] != 0]\n",
    "    df = df[df['LATITUDE'] >= 40]\n",
    "    df = df[df['LONGITUDE'] != 0]\n",
    "    df = df[(df['LONGITUDE'] >= -80) & (df['LONGITUDE'] <= -65)]\n",
    "\n",
    "    datasets.append(df)\n"
   ]
  },
  {
   "cell_type": "code",
   "execution_count": 11,
   "metadata": {},
   "outputs": [],
   "source": [
    "# Perform KMeans clustering\n",
    "def showClusterPlots(data, month, year):\n",
    "    kmeans = KMeans(n_clusters=9)  # Change the number of clusters to 9\n",
    "    kmeans.fit(data)\n",
    "    labels = kmeans.labels_\n",
    "\n",
    "    # Count occurrences of each label\n",
    "    label_counts = Counter(labels)\n",
    "\n",
    "    # Create a Folium map with adjusted center and zoom level for a more zoomed-out view\n",
    "    map_clusters = folium.Map(location=[np.median(data[:, 0]), np.median(data[:, 1])], zoom_start=11)\n",
    "\n",
    "    colors = ['red', 'blue', 'green', 'purple', 'orange', 'yellow', 'cyan', 'magenta', 'brown']  # Change/add colors for 9 clusters\n",
    "\n",
    "    # Load GeoJSON data for NYC boroughs\n",
    "    boroughs_geojson = gpd.read_file('https://data.cityofnewyork.us/api/geospatial/tqmj-j8zm?method=export&format=GeoJSON')\n",
    "\n",
    "    map_clusters = folium.Map(location=[np.median(data[:, 0]), np.median(data[:, 1])], zoom_start=11)\n",
    "\n",
    "    borough_colors = {\n",
    "        'Brooklyn': 'blue',\n",
    "        'Bronx': 'red',\n",
    "        'Manhattan': 'green',\n",
    "        'Queens': 'purple',\n",
    "        'Staten Island': 'orange'\n",
    "    }\n",
    "\n",
    "    # Add borough outlines with different colors to the map\n",
    "    for feature in boroughs_geojson.iterfeatures():\n",
    "        borough_name = feature['properties']['boro_name']  # Assuming the GeoJSON has a 'boro_name' property\n",
    "        folium.GeoJson(\n",
    "            feature,\n",
    "            name=borough_name,\n",
    "            style_function=lambda x, color=borough_colors.get(borough_name, 'gray'): {\n",
    "                'color': color,\n",
    "                'fillOpacity': 0.16,\n",
    "                'weight': 2\n",
    "            }\n",
    "        ).add_to(map_clusters)\n",
    "\n",
    "\n",
    "    # Add CircleMarkers for each data point and cluster centers as markers\n",
    "    for i in range(len(kmeans.cluster_centers_)):\n",
    "        folium.CircleMarker(\n",
    "            location=kmeans.cluster_centers_[i],\n",
    "            radius=label_counts[i]/25,\n",
    "            color=colors[i],\n",
    "            fill=True,\n",
    "            fill_color=colors[i],\n",
    "            fill_opacity=0.38\n",
    "        ).add_to(map_clusters)\n",
    "\n",
    "    # Add markers for cluster centers with the number of data points\n",
    "    for i, center in enumerate(kmeans.cluster_centers_):\n",
    "        folium.Marker(\n",
    "            location=center,\n",
    "            popup=f'Cluster Center {i+1} - {label_counts[i]} data points',\n",
    "            icon=folium.Icon(color='black')\n",
    "        ).add_to(map_clusters)\n",
    "\n",
    "    # Save the image\n",
    "    img_data = map_clusters._to_png()\n",
    "    img = Image.open(BytesIO(img_data))\n",
    "\n",
    "    img.save(f'./images/clusters/cluster_map_{month}_{year}.png')"
   ]
  },
  {
   "cell_type": "code",
   "execution_count": 12,
   "metadata": {},
   "outputs": [
    {
     "name": "stderr",
     "output_type": "stream",
     "text": [
      "/home/sankalp/anaconda3/lib/python3.11/site-packages/sklearn/cluster/_kmeans.py:1412: FutureWarning: The default value of `n_init` will change from 10 to 'auto' in 1.4. Set the value of `n_init` explicitly to suppress the warning\n",
      "  super()._check_params_vs_input(X, default_n_init=10)\n",
      "/home/sankalp/anaconda3/lib/python3.11/site-packages/sklearn/cluster/_kmeans.py:1412: FutureWarning: The default value of `n_init` will change from 10 to 'auto' in 1.4. Set the value of `n_init` explicitly to suppress the warning\n",
      "  super()._check_params_vs_input(X, default_n_init=10)\n",
      "/home/sankalp/anaconda3/lib/python3.11/site-packages/sklearn/cluster/_kmeans.py:1412: FutureWarning: The default value of `n_init` will change from 10 to 'auto' in 1.4. Set the value of `n_init` explicitly to suppress the warning\n",
      "  super()._check_params_vs_input(X, default_n_init=10)\n",
      "/home/sankalp/anaconda3/lib/python3.11/site-packages/sklearn/cluster/_kmeans.py:1412: FutureWarning: The default value of `n_init` will change from 10 to 'auto' in 1.4. Set the value of `n_init` explicitly to suppress the warning\n",
      "  super()._check_params_vs_input(X, default_n_init=10)\n",
      "/home/sankalp/anaconda3/lib/python3.11/site-packages/sklearn/cluster/_kmeans.py:1412: FutureWarning: The default value of `n_init` will change from 10 to 'auto' in 1.4. Set the value of `n_init` explicitly to suppress the warning\n",
      "  super()._check_params_vs_input(X, default_n_init=10)\n"
     ]
    }
   ],
   "source": [
    "for i in range(2013,2020):\n",
    "    data = datasets[i-2013]\n",
    "    for j in range(1,13):\n",
    "        data['CRASH DATE'] = pd.to_datetime(data['CRASH DATE'])\n",
    "        data_month = data[data[\"CRASH DATE\"].dt.month == j]\n",
    "        data_month = data_month[['LATITUDE', 'LONGITUDE']].values\n",
    "        m = str(month_abbr[j])\n",
    "        showClusterPlots(data_month,m,i)"
   ]
  }
 ],
 "metadata": {
  "kernelspec": {
   "display_name": "base",
   "language": "python",
   "name": "python3"
  },
  "language_info": {
   "codemirror_mode": {
    "name": "ipython",
    "version": 3
   },
   "file_extension": ".py",
   "mimetype": "text/x-python",
   "name": "python",
   "nbconvert_exporter": "python",
   "pygments_lexer": "ipython3",
   "version": "3.11.5"
  }
 },
 "nbformat": 4,
 "nbformat_minor": 2
}
